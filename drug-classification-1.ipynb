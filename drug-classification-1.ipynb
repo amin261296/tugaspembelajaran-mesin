{
 "cells": [
  {
   "cell_type": "code",
   "execution_count": 39,
   "id": "9cd59fb1",
   "metadata": {
    "_cell_guid": "b1076dfc-b9ad-4769-8c92-a6c4dae69d19",
    "_uuid": "8f2839f25d086af736a60e9eeb907d3b93b6e0e5",
    "execution": {
     "iopub.execute_input": "2022-05-21T13:05:17.310881Z",
     "iopub.status.busy": "2022-05-21T13:05:17.310201Z",
     "iopub.status.idle": "2022-05-21T13:05:17.326473Z",
     "shell.execute_reply": "2022-05-21T13:05:17.325816Z"
    },
    "papermill": {
     "duration": 0.078851,
     "end_time": "2022-05-21T13:05:17.329215",
     "exception": false,
     "start_time": "2022-05-21T13:05:17.250364",
     "status": "completed"
    },
    "tags": []
   },
   "outputs": [],
   "source": [
    "# This Python 3 environment comes with many helpful analytics libraries installed\n",
    "# It is defined by the kaggle/python Docker image: https://github.com/kaggle/docker-python\n",
    "# For example, here's several helpful packages to load\n",
    "\n",
    "#import numpy as np # linear algebra\n",
    "#import pandas as pd # data processing, CSV file I/O (e.g. pd.read_csv)\n",
    "\n",
    "# Input data files are available in the read-only \"../input/\" directory\n",
    "# For example, running this (by clicking run or pressing Shift+Enter) will list all files under the input directory\n",
    "\n",
    "#import os\n",
    "#for dirname, _, filenames in os.walk('/kaggle/input'):\n",
    "    #for filename in filenames:\n",
    "        #print(os.path.join(dirname, filename))\n",
    "\n",
    "# You can write up to 20GB to the current directory (/kaggle/working/) that gets preserved as output when you create a version using \"Save & Run All\" \n",
    "# You can also write temporary files to /kaggle/temp/, but they won't be saved outside of the current session"
   ]
  },
  {
   "cell_type": "code",
   "execution_count": 40,
   "id": "440d1c5d",
   "metadata": {
    "execution": {
     "iopub.execute_input": "2022-05-21T13:05:17.423132Z",
     "iopub.status.busy": "2022-05-21T13:05:17.422138Z",
     "iopub.status.idle": "2022-05-21T13:05:18.680953Z",
     "shell.execute_reply": "2022-05-21T13:05:18.679972Z"
    },
    "papermill": {
     "duration": 1.307718,
     "end_time": "2022-05-21T13:05:18.683621",
     "exception": false,
     "start_time": "2022-05-21T13:05:17.375903",
     "status": "completed"
    },
    "tags": []
   },
   "outputs": [],
   "source": [
    "import numpy as np\n",
    "import pandas as pd\n",
    "import matplotlib.pyplot as plt\n",
    "import seaborn as sns\n",
    "import os"
   ]
  },
  {
   "cell_type": "code",
   "execution_count": 42,
   "id": "d9026c57",
   "metadata": {
    "execution": {
     "iopub.execute_input": "2022-05-21T13:05:18.775804Z",
     "iopub.status.busy": "2022-05-21T13:05:18.775402Z",
     "iopub.status.idle": "2022-05-21T13:05:18.790633Z",
     "shell.execute_reply": "2022-05-21T13:05:18.789429Z"
    },
    "papermill": {
     "duration": 0.064645,
     "end_time": "2022-05-21T13:05:18.793254",
     "exception": false,
     "start_time": "2022-05-21T13:05:18.728609",
     "status": "completed"
    },
    "tags": []
   },
   "outputs": [],
   "source": [
    "df_drug = pd.read_csv(\"drug200.csv\")"
   ]
  },
  {
   "cell_type": "code",
   "execution_count": 4,
   "id": "646ac665",
   "metadata": {
    "execution": {
     "iopub.execute_input": "2022-05-21T13:05:18.888347Z",
     "iopub.status.busy": "2022-05-21T13:05:18.887391Z",
     "iopub.status.idle": "2022-05-21T13:05:18.917915Z",
     "shell.execute_reply": "2022-05-21T13:05:18.917284Z"
    },
    "papermill": {
     "duration": 0.07959,
     "end_time": "2022-05-21T13:05:18.920481",
     "exception": false,
     "start_time": "2022-05-21T13:05:18.840891",
     "status": "completed"
    },
    "tags": []
   },
   "outputs": [
    {
     "name": "stdout",
     "output_type": "stream",
     "text": [
      "<class 'pandas.core.frame.DataFrame'>\n",
      "RangeIndex: 200 entries, 0 to 199\n",
      "Data columns (total 6 columns):\n",
      " #   Column       Non-Null Count  Dtype  \n",
      "---  ------       --------------  -----  \n",
      " 0   Age          200 non-null    int64  \n",
      " 1   Sex          200 non-null    object \n",
      " 2   BP           200 non-null    object \n",
      " 3   Cholesterol  200 non-null    object \n",
      " 4   Na_to_K      200 non-null    float64\n",
      " 5   Drug         200 non-null    object \n",
      "dtypes: float64(1), int64(1), object(4)\n",
      "memory usage: 9.5+ KB\n",
      "None\n"
     ]
    }
   ],
   "source": [
    "print(df_drug.info())"
   ]
  },
  {
   "cell_type": "code",
   "execution_count": 43,
   "id": "e309a09d",
   "metadata": {
    "execution": {
     "iopub.execute_input": "2022-05-21T13:05:19.015595Z",
     "iopub.status.busy": "2022-05-21T13:05:19.015156Z",
     "iopub.status.idle": "2022-05-21T13:05:19.024996Z",
     "shell.execute_reply": "2022-05-21T13:05:19.024365Z"
    },
    "papermill": {
     "duration": 0.060633,
     "end_time": "2022-05-21T13:05:19.027719",
     "exception": false,
     "start_time": "2022-05-21T13:05:18.967086",
     "status": "completed"
    },
    "tags": []
   },
   "outputs": [
    {
     "data": {
      "text/plain": [
       "DrugY    91\n",
       "drugX    54\n",
       "drugA    23\n",
       "drugC    16\n",
       "drugB    16\n",
       "Name: Drug, dtype: int64"
      ]
     },
     "execution_count": 43,
     "metadata": {},
     "output_type": "execute_result"
    }
   ],
   "source": [
    "df_drug.Drug.value_counts()"
   ]
  },
  {
   "cell_type": "code",
   "execution_count": 44,
   "id": "d73ead6d",
   "metadata": {
    "execution": {
     "iopub.execute_input": "2022-05-21T13:05:19.121744Z",
     "iopub.status.busy": "2022-05-21T13:05:19.121317Z",
     "iopub.status.idle": "2022-05-21T13:05:19.127707Z",
     "shell.execute_reply": "2022-05-21T13:05:19.126960Z"
    },
    "papermill": {
     "duration": 0.055488,
     "end_time": "2022-05-21T13:05:19.129680",
     "exception": false,
     "start_time": "2022-05-21T13:05:19.074192",
     "status": "completed"
    },
    "tags": []
   },
   "outputs": [
    {
     "data": {
      "text/plain": [
       "M    104\n",
       "F     96\n",
       "Name: Sex, dtype: int64"
      ]
     },
     "execution_count": 44,
     "metadata": {},
     "output_type": "execute_result"
    }
   ],
   "source": [
    "df_drug.Sex.value_counts()"
   ]
  },
  {
   "cell_type": "code",
   "execution_count": 45,
   "id": "d9b4f21d",
   "metadata": {
    "execution": {
     "iopub.execute_input": "2022-05-21T13:05:19.222368Z",
     "iopub.status.busy": "2022-05-21T13:05:19.222048Z",
     "iopub.status.idle": "2022-05-21T13:05:19.229997Z",
     "shell.execute_reply": "2022-05-21T13:05:19.229283Z"
    },
    "papermill": {
     "duration": 0.056877,
     "end_time": "2022-05-21T13:05:19.231934",
     "exception": false,
     "start_time": "2022-05-21T13:05:19.175057",
     "status": "completed"
    },
    "tags": []
   },
   "outputs": [
    {
     "data": {
      "text/plain": [
       "HIGH      77\n",
       "LOW       64\n",
       "NORMAL    59\n",
       "Name: BP, dtype: int64"
      ]
     },
     "execution_count": 45,
     "metadata": {},
     "output_type": "execute_result"
    }
   ],
   "source": [
    "df_drug.BP.value_counts()"
   ]
  },
  {
   "cell_type": "code",
   "execution_count": 8,
   "id": "2a09261b",
   "metadata": {
    "execution": {
     "iopub.execute_input": "2022-05-21T13:05:19.327385Z",
     "iopub.status.busy": "2022-05-21T13:05:19.326344Z",
     "iopub.status.idle": "2022-05-21T13:05:19.335609Z",
     "shell.execute_reply": "2022-05-21T13:05:19.334703Z"
    },
    "papermill": {
     "duration": 0.059944,
     "end_time": "2022-05-21T13:05:19.338041",
     "exception": false,
     "start_time": "2022-05-21T13:05:19.278097",
     "status": "completed"
    },
    "tags": []
   },
   "outputs": [
    {
     "data": {
      "text/plain": [
       "HIGH      103\n",
       "NORMAL     97\n",
       "Name: Cholesterol, dtype: int64"
      ]
     },
     "execution_count": 8,
     "metadata": {},
     "output_type": "execute_result"
    }
   ],
   "source": [
    "df_drug.Cholesterol.value_counts()"
   ]
  },
  {
   "cell_type": "code",
   "execution_count": 47,
   "id": "1526a74f",
   "metadata": {
    "execution": {
     "iopub.execute_input": "2022-05-21T13:05:19.436364Z",
     "iopub.status.busy": "2022-05-21T13:05:19.435989Z",
     "iopub.status.idle": "2022-05-21T13:05:19.463525Z",
     "shell.execute_reply": "2022-05-21T13:05:19.462387Z"
    },
    "papermill": {
     "duration": 0.079269,
     "end_time": "2022-05-21T13:05:19.466109",
     "exception": false,
     "start_time": "2022-05-21T13:05:19.386840",
     "status": "completed"
    },
    "tags": []
   },
   "outputs": [
    {
     "data": {
      "text/html": [
       "<div>\n",
       "<style scoped>\n",
       "    .dataframe tbody tr th:only-of-type {\n",
       "        vertical-align: middle;\n",
       "    }\n",
       "\n",
       "    .dataframe tbody tr th {\n",
       "        vertical-align: top;\n",
       "    }\n",
       "\n",
       "    .dataframe thead th {\n",
       "        text-align: right;\n",
       "    }\n",
       "</style>\n",
       "<table border=\"1\" class=\"dataframe\">\n",
       "  <thead>\n",
       "    <tr style=\"text-align: right;\">\n",
       "      <th></th>\n",
       "      <th>Age</th>\n",
       "      <th>Na_to_K</th>\n",
       "    </tr>\n",
       "  </thead>\n",
       "  <tbody>\n",
       "    <tr>\n",
       "      <th>count</th>\n",
       "      <td>200.000000</td>\n",
       "      <td>200.000000</td>\n",
       "    </tr>\n",
       "    <tr>\n",
       "      <th>mean</th>\n",
       "      <td>44.315000</td>\n",
       "      <td>16.084485</td>\n",
       "    </tr>\n",
       "    <tr>\n",
       "      <th>std</th>\n",
       "      <td>16.544315</td>\n",
       "      <td>7.223956</td>\n",
       "    </tr>\n",
       "    <tr>\n",
       "      <th>min</th>\n",
       "      <td>15.000000</td>\n",
       "      <td>6.269000</td>\n",
       "    </tr>\n",
       "    <tr>\n",
       "      <th>25%</th>\n",
       "      <td>31.000000</td>\n",
       "      <td>10.445500</td>\n",
       "    </tr>\n",
       "    <tr>\n",
       "      <th>50%</th>\n",
       "      <td>45.000000</td>\n",
       "      <td>13.936500</td>\n",
       "    </tr>\n",
       "    <tr>\n",
       "      <th>75%</th>\n",
       "      <td>58.000000</td>\n",
       "      <td>19.380000</td>\n",
       "    </tr>\n",
       "    <tr>\n",
       "      <th>max</th>\n",
       "      <td>74.000000</td>\n",
       "      <td>38.247000</td>\n",
       "    </tr>\n",
       "  </tbody>\n",
       "</table>\n",
       "</div>"
      ],
      "text/plain": [
       "              Age     Na_to_K\n",
       "count  200.000000  200.000000\n",
       "mean    44.315000   16.084485\n",
       "std     16.544315    7.223956\n",
       "min     15.000000    6.269000\n",
       "25%     31.000000   10.445500\n",
       "50%     45.000000   13.936500\n",
       "75%     58.000000   19.380000\n",
       "max     74.000000   38.247000"
      ]
     },
     "execution_count": 47,
     "metadata": {},
     "output_type": "execute_result"
    }
   ],
   "source": [
    "df_drug.describe()"
   ]
  },
  {
   "cell_type": "code",
   "execution_count": 48,
   "id": "2db83c24",
   "metadata": {
    "execution": {
     "iopub.execute_input": "2022-05-21T13:05:19.564893Z",
     "iopub.status.busy": "2022-05-21T13:05:19.564534Z",
     "iopub.status.idle": "2022-05-21T13:05:19.571414Z",
     "shell.execute_reply": "2022-05-21T13:05:19.570339Z"
    },
    "papermill": {
     "duration": 0.059668,
     "end_time": "2022-05-21T13:05:19.573338",
     "exception": false,
     "start_time": "2022-05-21T13:05:19.513670",
     "status": "completed"
    },
    "tags": []
   },
   "outputs": [
    {
     "name": "stdout",
     "output_type": "stream",
     "text": [
      "Age skewness:  0.03030835703000607\n"
     ]
    }
   ],
   "source": [
    "skewAge = df_drug.Age.skew(axis = 0, skipna = True)\n",
    "print('Age skewness: ', skewAge)"
   ]
  },
  {
   "cell_type": "code",
   "execution_count": 49,
   "id": "9ca6baca",
   "metadata": {
    "execution": {
     "iopub.execute_input": "2022-05-21T13:05:19.670365Z",
     "iopub.status.busy": "2022-05-21T13:05:19.669691Z",
     "iopub.status.idle": "2022-05-21T13:05:19.675956Z",
     "shell.execute_reply": "2022-05-21T13:05:19.674778Z"
    },
    "papermill": {
     "duration": 0.057382,
     "end_time": "2022-05-21T13:05:19.678170",
     "exception": false,
     "start_time": "2022-05-21T13:05:19.620788",
     "status": "completed"
    },
    "tags": []
   },
   "outputs": [
    {
     "name": "stdout",
     "output_type": "stream",
     "text": [
      "Na to K skewness:  1.039341186028881\n"
     ]
    }
   ],
   "source": [
    "skewNatoK = df_drug.Na_to_K.skew(axis = 0, skipna = True)\n",
    "print('Na to K skewness: ', skewNatoK)"
   ]
  },
  {
   "cell_type": "code",
   "execution_count": 50,
   "id": "00e59594",
   "metadata": {
    "execution": {
     "iopub.execute_input": "2022-05-21T13:05:19.775285Z",
     "iopub.status.busy": "2022-05-21T13:05:19.774749Z",
     "iopub.status.idle": "2022-05-21T13:05:20.047616Z",
     "shell.execute_reply": "2022-05-21T13:05:20.046440Z"
    },
    "papermill": {
     "duration": 0.324668,
     "end_time": "2022-05-21T13:05:20.050269",
     "exception": false,
     "start_time": "2022-05-21T13:05:19.725601",
     "status": "completed"
    },
    "tags": []
   },
   "outputs": [
    {
     "name": "stderr",
     "output_type": "stream",
     "text": [
      "C:\\Users\\sugriwo\\anaconda3\\lib\\site-packages\\seaborn\\distributions.py:2619: FutureWarning: `distplot` is a deprecated function and will be removed in a future version. Please adapt your code to use either `displot` (a figure-level function with similar flexibility) or `histplot` (an axes-level function for histograms).\n",
      "  warnings.warn(msg, FutureWarning)\n"
     ]
    },
    {
     "data": {
      "image/png": "[encoded data removed]",
      "text/plain": [
       "<Figure size 432x288 with 1 Axes>"
      ]
     },
     "metadata": {},
     "output_type": "display_data"
    }
   ],
   "source": [
    "sns.distplot(df_drug['Age']);"
   ]
  },
  {
   "cell_type": "code",
   "execution_count": 51,
   "id": "00d796bd",
   "metadata": {
    "execution": {
     "iopub.execute_input": "2022-05-21T13:05:20.150542Z",
     "iopub.status.busy": "2022-05-21T13:05:20.149721Z",
     "iopub.status.idle": "2022-05-21T13:05:20.361368Z",
     "shell.execute_reply": "2022-05-21T13:05:20.359790Z"
    },
    "papermill": {
     "duration": 0.264244,
     "end_time": "2022-05-21T13:05:20.363738",
     "exception": false,
     "start_time": "2022-05-21T13:05:20.099494",
     "status": "completed"
    },
    "tags": []
   },
   "outputs": [
    {
     "name": "stderr",
     "output_type": "stream",
     "text": [
      "C:\\Users\\sugriwo\\anaconda3\\lib\\site-packages\\seaborn\\distributions.py:2619: FutureWarning: `distplot` is a deprecated function and will be removed in a future version. Please adapt your code to use either `displot` (a figure-level function with similar flexibility) or `histplot` (an axes-level function for histograms).\n",
      "  warnings.warn(msg, FutureWarning)\n"
     ]
    },
    {
     "data": {
      "image/png": "[encoded data removed]",
      "text/plain": [
       "<Figure size 432x288 with 1 Axes>"
      ]
     },
     "metadata": {},
     "output_type": "display_data"
    }
   ],
   "source": [
    "sns.distplot(df_drug['Na_to_K']);"
   ]
  },
  {
   "cell_type": "code",
   "execution_count": 52,
   "id": "b9830a2e",
   "metadata": {
    "execution": {
     "iopub.execute_input": "2022-05-21T13:05:20.467017Z",
     "iopub.status.busy": "2022-05-21T13:05:20.465852Z",
     "iopub.status.idle": "2022-05-21T13:05:20.693712Z",
     "shell.execute_reply": "2022-05-21T13:05:20.692658Z"
    },
    "papermill": {
     "duration": 0.2819,
     "end_time": "2022-05-21T13:05:20.696094",
     "exception": false,
     "start_time": "2022-05-21T13:05:20.414194",
     "status": "completed"
    },
    "tags": []
   },
   "outputs": [
    {
     "data": {
      "image/png": "[encoded data removed]",
      "text/plain": [
       "<Figure size 432x288 with 1 Axes>"
      ]
     },
     "metadata": {},
     "output_type": "display_data"
    }
   ],
   "source": [
    "sns.set_theme(style=\"darkgrid\")\n",
    "sns.countplot(y=\"Drug\", data=df_drug, palette=\"flare\")\n",
    "plt.ylabel('Drug Type')\n",
    "plt.xlabel('Total')\n",
    "plt.show()"
   ]
  },
  {
   "cell_type": "code",
   "execution_count": 53,
   "id": "b6b5f857",
   "metadata": {
    "execution": {
     "iopub.execute_input": "2022-05-21T13:05:20.803965Z",
     "iopub.status.busy": "2022-05-21T13:05:20.803335Z",
     "iopub.status.idle": "2022-05-21T13:05:20.977106Z",
     "shell.execute_reply": "2022-05-21T13:05:20.976399Z"
    },
    "papermill": {
     "duration": 0.230056,
     "end_time": "2022-05-21T13:05:20.979331",
     "exception": false,
     "start_time": "2022-05-21T13:05:20.749275",
     "status": "completed"
    },
    "tags": []
   },
   "outputs": [
    {
     "data": {
      "image/png": "[encoded data removed]",
      "text/plain": [
       "<Figure size 432x288 with 1 Axes>"
      ]
     },
     "metadata": {},
     "output_type": "display_data"
    }
   ],
   "source": [
    "sns.set_theme(style=\"darkgrid\")\n",
    "sns.countplot(x=\"Sex\", data=df_drug, palette=\"rocket\")\n",
    "plt.xlabel('Gender (F=Female, M=Male)')\n",
    "plt.ylabel('Total')\n",
    "plt.show()\n"
   ]
  },
  {
   "cell_type": "code",
   "execution_count": 54,
   "id": "af077de3",
   "metadata": {
    "execution": {
     "iopub.execute_input": "2022-05-21T13:05:21.086993Z",
     "iopub.status.busy": "2022-05-21T13:05:21.086386Z",
     "iopub.status.idle": "2022-05-21T13:05:21.317752Z",
     "shell.execute_reply": "2022-05-21T13:05:21.317122Z"
    },
    "papermill": {
     "duration": 0.287561,
     "end_time": "2022-05-21T13:05:21.319888",
     "exception": false,
     "start_time": "2022-05-21T13:05:21.032327",
     "status": "completed"
    },
    "tags": []
   },
   "outputs": [
    {
     "data": {
      "image/png": "[encoded data removed]",
      "text/plain": [
       "<Figure size 432x288 with 1 Axes>"
      ]
     },
     "metadata": {},
     "output_type": "display_data"
    }
   ],
   "source": [
    "sns.set_theme(style=\"darkgrid\")\n",
    "sns.countplot(y=\"BP\", data=df_drug, palette=\"crest\")\n",
    "plt.ylabel('Blood Pressure')\n",
    "plt.xlabel('Total')\n",
    "plt.show()"
   ]
  },
  {
   "cell_type": "code",
   "execution_count": 55,
   "id": "12ba75ec",
   "metadata": {
    "execution": {
     "iopub.execute_input": "2022-05-21T13:05:21.428974Z",
     "iopub.status.busy": "2022-05-21T13:05:21.428518Z",
     "iopub.status.idle": "2022-05-21T13:05:21.598897Z",
     "shell.execute_reply": "2022-05-21T13:05:21.597825Z"
    },
    "papermill": {
     "duration": 0.2278,
     "end_time": "2022-05-21T13:05:21.601714",
     "exception": false,
     "start_time": "2022-05-21T13:05:21.373914",
     "status": "completed"
    },
    "tags": []
   },
   "outputs": [
    {
     "data": {
      "image/png": "[encoded data removed]",
      "text/plain": [
       "<Figure size 432x288 with 1 Axes>"
      ]
     },
     "metadata": {},
     "output_type": "display_data"
    }
   ],
   "source": [
    "sns.set_theme(style=\"darkgrid\")\n",
    "sns.countplot(x=\"Cholesterol\", data=df_drug, palette=\"magma\")\n",
    "plt.xlabel('Blood Pressure')\n",
    "plt.ylabel('Total')\n",
    "plt.show()\n"
   ]
  },
  {
   "cell_type": "code",
   "execution_count": 56,
   "id": "bd4be75a",
   "metadata": {
    "execution": {
     "iopub.execute_input": "2022-05-21T13:05:21.711760Z",
     "iopub.status.busy": "2022-05-21T13:05:21.711145Z",
     "iopub.status.idle": "2022-05-21T13:05:21.982917Z",
     "shell.execute_reply": "2022-05-21T13:05:21.981822Z"
    },
    "papermill": {
     "duration": 0.32982,
     "end_time": "2022-05-21T13:05:21.985379",
     "exception": false,
     "start_time": "2022-05-21T13:05:21.655559",
     "status": "completed"
    },
    "tags": []
   },
   "outputs": [
    {
     "data": {
      "image/png": "[encoded data removed]",
      "text/plain": [
       "<Figure size 864x360 with 1 Axes>"
      ]
     },
     "metadata": {},
     "output_type": "display_data"
    }
   ],
   "source": [
    "pd.crosstab(df_drug.Sex,df_drug.Drug).plot(kind=\"bar\",figsize=(12,5),color=['#003f5c','#ffa600','#58508d','#bc5090','#ff6361'])\n",
    "plt.title('Gender distribution based on Drug type')\n",
    "plt.xlabel('Gender')\n",
    "plt.xticks(rotation=0)\n",
    "plt.ylabel('Frequency')\n",
    "plt.show()"
   ]
  },
  {
   "cell_type": "code",
   "execution_count": 57,
   "id": "9cac4992",
   "metadata": {
    "execution": {
     "iopub.execute_input": "2022-05-21T13:05:22.100505Z",
     "iopub.status.busy": "2022-05-21T13:05:22.100192Z",
     "iopub.status.idle": "2022-05-21T13:05:22.311506Z",
     "shell.execute_reply": "2022-05-21T13:05:22.310360Z"
    },
    "papermill": {
     "duration": 0.270436,
     "end_time": "2022-05-21T13:05:22.314178",
     "exception": false,
     "start_time": "2022-05-21T13:05:22.043742",
     "status": "completed"
    },
    "tags": []
   },
   "outputs": [
    {
     "data": {
      "image/png": "[encoded data removed]",
      "text/plain": [
       "<Figure size 1080x432 with 1 Axes>"
      ]
     },
     "metadata": {},
     "output_type": "display_data"
    }
   ],
   "source": [
    "pd.crosstab(df_drug.BP,df_drug.Cholesterol).plot(kind=\"bar\",figsize=(15,6),color=['#6929c4','#1192e8'])\n",
    "plt.title('Blood Pressure distribution based on Cholesterol')\n",
    "plt.xlabel('Blood Pressure')\n",
    "plt.xticks(rotation=0)\n",
    "plt.ylabel('Frequency')\n",
    "plt.show()"
   ]
  },
  {
   "cell_type": "code",
   "execution_count": 58,
   "id": "c092e43e",
   "metadata": {
    "execution": {
     "iopub.execute_input": "2022-05-21T13:05:22.431493Z",
     "iopub.status.busy": "2022-05-21T13:05:22.431188Z",
     "iopub.status.idle": "2022-05-21T13:05:22.694484Z",
     "shell.execute_reply": "2022-05-21T13:05:22.693349Z"
    },
    "papermill": {
     "duration": 0.324674,
     "end_time": "2022-05-21T13:05:22.697111",
     "exception": false,
     "start_time": "2022-05-21T13:05:22.372437",
     "status": "completed"
    },
    "tags": []
   },
   "outputs": [
    {
     "data": {
      "image/png": "[encoded data removed]",
      "text/plain": [
       "<Figure size 432x288 with 1 Axes>"
      ]
     },
     "metadata": {},
     "output_type": "display_data"
    }
   ],
   "source": [
    "plt.scatter(x=df_drug.Age[df_drug.Sex=='F'], y=df_drug.Na_to_K[(df_drug.Sex=='F')], c=\"Blue\")\n",
    "plt.scatter(x=df_drug.Age[df_drug.Sex=='M'], y=df_drug.Na_to_K[(df_drug.Sex=='M')], c=\"Orange\")\n",
    "plt.legend([\"Female\", \"Male\"])\n",
    "plt.xlabel(\"Age\")\n",
    "plt.ylabel(\"Na_to_K\")\n",
    "plt.show()"
   ]
  },
  {
   "cell_type": "code",
   "execution_count": 59,
   "id": "630b5c01",
   "metadata": {
    "execution": {
     "iopub.execute_input": "2022-05-21T13:05:22.814487Z",
     "iopub.status.busy": "2022-05-21T13:05:22.813965Z",
     "iopub.status.idle": "2022-05-21T13:05:22.824345Z",
     "shell.execute_reply": "2022-05-21T13:05:22.823649Z"
    },
    "papermill": {
     "duration": 0.070973,
     "end_time": "2022-05-21T13:05:22.826056",
     "exception": false,
     "start_time": "2022-05-21T13:05:22.755083",
     "status": "completed"
    },
    "tags": []
   },
   "outputs": [],
   "source": [
    "bin_age = [0, 19, 29, 39, 49, 59, 69, 80]\n",
    "category_age = ['<20s', '20s', '30s', '40s', '50s', '60s', '>60s']\n",
    "df_drug['Age_binned'] = pd.cut(df_drug['Age'], bins=bin_age, labels=category_age)\n",
    "df_drug = df_drug.drop(['Age'], axis = 1)"
   ]
  },
  {
   "cell_type": "code",
   "execution_count": 60,
   "id": "2aba0815",
   "metadata": {
    "execution": {
     "iopub.execute_input": "2022-05-21T13:05:22.943922Z",
     "iopub.status.busy": "2022-05-21T13:05:22.942759Z",
     "iopub.status.idle": "2022-05-21T13:05:22.951571Z",
     "shell.execute_reply": "2022-05-21T13:05:22.950731Z"
    },
    "papermill": {
     "duration": 0.070633,
     "end_time": "2022-05-21T13:05:22.954158",
     "exception": false,
     "start_time": "2022-05-21T13:05:22.883525",
     "status": "completed"
    },
    "tags": []
   },
   "outputs": [],
   "source": [
    "bin_NatoK = [0, 9, 19, 29, 50]\n",
    "category_NatoK = ['<10', '10-20', '20-30', '>30']\n",
    "df_drug['Na_to_K_binned'] = pd.cut(df_drug['Na_to_K'], bins=bin_NatoK, labels=category_NatoK)\n",
    "df_drug = df_drug.drop(['Na_to_K'], axis = 1)"
   ]
  },
  {
   "cell_type": "code",
   "execution_count": 61,
   "id": "15f2c80c",
   "metadata": {
    "execution": {
     "iopub.execute_input": "2022-05-21T13:05:23.073370Z",
     "iopub.status.busy": "2022-05-21T13:05:23.072170Z",
     "iopub.status.idle": "2022-05-21T13:05:23.267632Z",
     "shell.execute_reply": "2022-05-21T13:05:23.266563Z"
    },
    "papermill": {
     "duration": 0.257134,
     "end_time": "2022-05-21T13:05:23.270419",
     "exception": false,
     "start_time": "2022-05-21T13:05:23.013285",
     "status": "completed"
    },
    "tags": []
   },
   "outputs": [],
   "source": [
    "from sklearn.metrics import confusion_matrix\n",
    "from sklearn.metrics import classification_report"
   ]
  },
  {
   "cell_type": "code",
   "execution_count": 62,
   "id": "2cc1c1b2",
   "metadata": {
    "execution": {
     "iopub.execute_input": "2022-05-21T13:05:23.386946Z",
     "iopub.status.busy": "2022-05-21T13:05:23.386660Z",
     "iopub.status.idle": "2022-05-21T13:05:23.414956Z",
     "shell.execute_reply": "2022-05-21T13:05:23.413906Z"
    },
    "papermill": {
     "duration": 0.089233,
     "end_time": "2022-05-21T13:05:23.417628",
     "exception": false,
     "start_time": "2022-05-21T13:05:23.328395",
     "status": "completed"
    },
    "tags": []
   },
   "outputs": [],
   "source": [
    "X = df_drug.drop([\"Drug\"], axis=1)\n",
    "y = df_drug[\"Drug\"]\n",
    "\n",
    "from sklearn.model_selection import train_test_split\n",
    "X_train, X_test, y_train, y_test = train_test_split(X, y, test_size = 0.3, random_state = 0)"
   ]
  },
  {
   "cell_type": "code",
   "execution_count": 63,
   "id": "8fe25584",
   "metadata": {
    "execution": {
     "iopub.execute_input": "2022-05-21T13:05:23.533669Z",
     "iopub.status.busy": "2022-05-21T13:05:23.533285Z",
     "iopub.status.idle": "2022-05-21T13:05:23.550754Z",
     "shell.execute_reply": "2022-05-21T13:05:23.550113Z"
    },
    "papermill": {
     "duration": 0.077732,
     "end_time": "2022-05-21T13:05:23.552923",
     "exception": false,
     "start_time": "2022-05-21T13:05:23.475191",
     "status": "completed"
    },
    "tags": []
   },
   "outputs": [],
   "source": [
    "X_train = pd.get_dummies(X_train)\n",
    "X_test = pd.get_dummies(X_test)"
   ]
  },
  {
   "cell_type": "code",
   "execution_count": 64,
   "id": "2d5473b3",
   "metadata": {
    "execution": {
     "iopub.execute_input": "2022-05-21T13:05:23.670490Z",
     "iopub.status.busy": "2022-05-21T13:05:23.669892Z",
     "iopub.status.idle": "2022-05-21T13:05:23.686089Z",
     "shell.execute_reply": "2022-05-21T13:05:23.685417Z"
    },
    "papermill": {
     "duration": 0.078539,
     "end_time": "2022-05-21T13:05:23.687934",
     "exception": false,
     "start_time": "2022-05-21T13:05:23.609395",
     "status": "completed"
    },
    "tags": []
   },
   "outputs": [
    {
     "data": {
      "text/html": [
       "<div>\n",
       "<style scoped>\n",
       "    .dataframe tbody tr th:only-of-type {\n",
       "        vertical-align: middle;\n",
       "    }\n",
       "\n",
       "    .dataframe tbody tr th {\n",
       "        vertical-align: top;\n",
       "    }\n",
       "\n",
       "    .dataframe thead th {\n",
       "        text-align: right;\n",
       "    }\n",
       "</style>\n",
       "<table border=\"1\" class=\"dataframe\">\n",
       "  <thead>\n",
       "    <tr style=\"text-align: right;\">\n",
       "      <th></th>\n",
       "      <th>Sex_F</th>\n",
       "      <th>Sex_M</th>\n",
       "      <th>BP_HIGH</th>\n",
       "      <th>BP_LOW</th>\n",
       "      <th>BP_NORMAL</th>\n",
       "      <th>Cholesterol_HIGH</th>\n",
       "      <th>Cholesterol_NORMAL</th>\n",
       "      <th>Age_binned_&lt;20s</th>\n",
       "      <th>Age_binned_20s</th>\n",
       "      <th>Age_binned_30s</th>\n",
       "      <th>Age_binned_40s</th>\n",
       "      <th>Age_binned_50s</th>\n",
       "      <th>Age_binned_60s</th>\n",
       "      <th>Age_binned_&gt;60s</th>\n",
       "      <th>Na_to_K_binned_&lt;10</th>\n",
       "      <th>Na_to_K_binned_10-20</th>\n",
       "      <th>Na_to_K_binned_20-30</th>\n",
       "      <th>Na_to_K_binned_&gt;30</th>\n",
       "    </tr>\n",
       "  </thead>\n",
       "  <tbody>\n",
       "    <tr>\n",
       "      <th>131</th>\n",
       "      <td>0</td>\n",
       "      <td>1</td>\n",
       "      <td>0</td>\n",
       "      <td>1</td>\n",
       "      <td>0</td>\n",
       "      <td>0</td>\n",
       "      <td>1</td>\n",
       "      <td>0</td>\n",
       "      <td>0</td>\n",
       "      <td>0</td>\n",
       "      <td>0</td>\n",
       "      <td>1</td>\n",
       "      <td>0</td>\n",
       "      <td>0</td>\n",
       "      <td>0</td>\n",
       "      <td>0</td>\n",
       "      <td>0</td>\n",
       "      <td>1</td>\n",
       "    </tr>\n",
       "    <tr>\n",
       "      <th>96</th>\n",
       "      <td>1</td>\n",
       "      <td>0</td>\n",
       "      <td>0</td>\n",
       "      <td>1</td>\n",
       "      <td>0</td>\n",
       "      <td>1</td>\n",
       "      <td>0</td>\n",
       "      <td>0</td>\n",
       "      <td>0</td>\n",
       "      <td>0</td>\n",
       "      <td>0</td>\n",
       "      <td>1</td>\n",
       "      <td>0</td>\n",
       "      <td>0</td>\n",
       "      <td>0</td>\n",
       "      <td>0</td>\n",
       "      <td>0</td>\n",
       "      <td>1</td>\n",
       "    </tr>\n",
       "    <tr>\n",
       "      <th>181</th>\n",
       "      <td>1</td>\n",
       "      <td>0</td>\n",
       "      <td>0</td>\n",
       "      <td>0</td>\n",
       "      <td>1</td>\n",
       "      <td>1</td>\n",
       "      <td>0</td>\n",
       "      <td>0</td>\n",
       "      <td>0</td>\n",
       "      <td>0</td>\n",
       "      <td>0</td>\n",
       "      <td>1</td>\n",
       "      <td>0</td>\n",
       "      <td>0</td>\n",
       "      <td>0</td>\n",
       "      <td>1</td>\n",
       "      <td>0</td>\n",
       "      <td>0</td>\n",
       "    </tr>\n",
       "    <tr>\n",
       "      <th>19</th>\n",
       "      <td>1</td>\n",
       "      <td>0</td>\n",
       "      <td>1</td>\n",
       "      <td>0</td>\n",
       "      <td>0</td>\n",
       "      <td>0</td>\n",
       "      <td>1</td>\n",
       "      <td>0</td>\n",
       "      <td>0</td>\n",
       "      <td>1</td>\n",
       "      <td>0</td>\n",
       "      <td>0</td>\n",
       "      <td>0</td>\n",
       "      <td>0</td>\n",
       "      <td>0</td>\n",
       "      <td>0</td>\n",
       "      <td>1</td>\n",
       "      <td>0</td>\n",
       "    </tr>\n",
       "    <tr>\n",
       "      <th>153</th>\n",
       "      <td>1</td>\n",
       "      <td>0</td>\n",
       "      <td>0</td>\n",
       "      <td>1</td>\n",
       "      <td>0</td>\n",
       "      <td>0</td>\n",
       "      <td>1</td>\n",
       "      <td>0</td>\n",
       "      <td>0</td>\n",
       "      <td>0</td>\n",
       "      <td>0</td>\n",
       "      <td>0</td>\n",
       "      <td>0</td>\n",
       "      <td>1</td>\n",
       "      <td>0</td>\n",
       "      <td>1</td>\n",
       "      <td>0</td>\n",
       "      <td>0</td>\n",
       "    </tr>\n",
       "  </tbody>\n",
       "</table>\n",
       "</div>"
      ],
      "text/plain": [
       "     Sex_F  Sex_M  BP_HIGH  BP_LOW  BP_NORMAL  Cholesterol_HIGH  \\\n",
       "131      0      1        0       1          0                 0   \n",
       "96       1      0        0       1          0                 1   \n",
       "181      1      0        0       0          1                 1   \n",
       "19       1      0        1       0          0                 0   \n",
       "153      1      0        0       1          0                 0   \n",
       "\n",
       "     Cholesterol_NORMAL  Age_binned_<20s  Age_binned_20s  Age_binned_30s  \\\n",
       "131                   1                0               0               0   \n",
       "96                    0                0               0               0   \n",
       "181                   0                0               0               0   \n",
       "19                    1                0               0               1   \n",
       "153                   1                0               0               0   \n",
       "\n",
       "     Age_binned_40s  Age_binned_50s  Age_binned_60s  Age_binned_>60s  \\\n",
       "131               0               1               0                0   \n",
       "96                0               1               0                0   \n",
       "181               0               1               0                0   \n",
       "19                0               0               0                0   \n",
       "153               0               0               0                1   \n",
       "\n",
       "     Na_to_K_binned_<10  Na_to_K_binned_10-20  Na_to_K_binned_20-30  \\\n",
       "131                   0                     0                     0   \n",
       "96                    0                     0                     0   \n",
       "181                   0                     1                     0   \n",
       "19                    0                     0                     1   \n",
       "153                   0                     1                     0   \n",
       "\n",
       "     Na_to_K_binned_>30  \n",
       "131                   1  \n",
       "96                    1  \n",
       "181                   0  \n",
       "19                    0  \n",
       "153                   0  "
      ]
     },
     "execution_count": 64,
     "metadata": {},
     "output_type": "execute_result"
    }
   ],
   "source": [
    "X_train.head()"
   ]
  },
  {
   "cell_type": "code",
   "execution_count": 65,
   "id": "9a1ebb78",
   "metadata": {
    "execution": {
     "iopub.execute_input": "2022-05-21T13:05:23.805240Z",
     "iopub.status.busy": "2022-05-21T13:05:23.804275Z",
     "iopub.status.idle": "2022-05-21T13:05:23.820918Z",
     "shell.execute_reply": "2022-05-21T13:05:23.820293Z"
    },
    "papermill": {
     "duration": 0.078752,
     "end_time": "2022-05-21T13:05:23.823902",
     "exception": false,
     "start_time": "2022-05-21T13:05:23.745150",
     "status": "completed"
    },
    "tags": []
   },
   "outputs": [
    {
     "data": {
      "text/html": [
       "<div>\n",
       "<style scoped>\n",
       "    .dataframe tbody tr th:only-of-type {\n",
       "        vertical-align: middle;\n",
       "    }\n",
       "\n",
       "    .dataframe tbody tr th {\n",
       "        vertical-align: top;\n",
       "    }\n",
       "\n",
       "    .dataframe thead th {\n",
       "        text-align: right;\n",
       "    }\n",
       "</style>\n",
       "<table border=\"1\" class=\"dataframe\">\n",
       "  <thead>\n",
       "    <tr style=\"text-align: right;\">\n",
       "      <th></th>\n",
       "      <th>Sex_F</th>\n",
       "      <th>Sex_M</th>\n",
       "      <th>BP_HIGH</th>\n",
       "      <th>BP_LOW</th>\n",
       "      <th>BP_NORMAL</th>\n",
       "      <th>Cholesterol_HIGH</th>\n",
       "      <th>Cholesterol_NORMAL</th>\n",
       "      <th>Age_binned_&lt;20s</th>\n",
       "      <th>Age_binned_20s</th>\n",
       "      <th>Age_binned_30s</th>\n",
       "      <th>Age_binned_40s</th>\n",
       "      <th>Age_binned_50s</th>\n",
       "      <th>Age_binned_60s</th>\n",
       "      <th>Age_binned_&gt;60s</th>\n",
       "      <th>Na_to_K_binned_&lt;10</th>\n",
       "      <th>Na_to_K_binned_10-20</th>\n",
       "      <th>Na_to_K_binned_20-30</th>\n",
       "      <th>Na_to_K_binned_&gt;30</th>\n",
       "    </tr>\n",
       "  </thead>\n",
       "  <tbody>\n",
       "    <tr>\n",
       "      <th>18</th>\n",
       "      <td>0</td>\n",
       "      <td>1</td>\n",
       "      <td>0</td>\n",
       "      <td>1</td>\n",
       "      <td>0</td>\n",
       "      <td>1</td>\n",
       "      <td>0</td>\n",
       "      <td>0</td>\n",
       "      <td>1</td>\n",
       "      <td>0</td>\n",
       "      <td>0</td>\n",
       "      <td>0</td>\n",
       "      <td>0</td>\n",
       "      <td>0</td>\n",
       "      <td>1</td>\n",
       "      <td>0</td>\n",
       "      <td>0</td>\n",
       "      <td>0</td>\n",
       "    </tr>\n",
       "    <tr>\n",
       "      <th>170</th>\n",
       "      <td>1</td>\n",
       "      <td>0</td>\n",
       "      <td>0</td>\n",
       "      <td>0</td>\n",
       "      <td>1</td>\n",
       "      <td>1</td>\n",
       "      <td>0</td>\n",
       "      <td>0</td>\n",
       "      <td>1</td>\n",
       "      <td>0</td>\n",
       "      <td>0</td>\n",
       "      <td>0</td>\n",
       "      <td>0</td>\n",
       "      <td>0</td>\n",
       "      <td>0</td>\n",
       "      <td>1</td>\n",
       "      <td>0</td>\n",
       "      <td>0</td>\n",
       "    </tr>\n",
       "    <tr>\n",
       "      <th>107</th>\n",
       "      <td>0</td>\n",
       "      <td>1</td>\n",
       "      <td>0</td>\n",
       "      <td>1</td>\n",
       "      <td>0</td>\n",
       "      <td>1</td>\n",
       "      <td>0</td>\n",
       "      <td>0</td>\n",
       "      <td>0</td>\n",
       "      <td>0</td>\n",
       "      <td>1</td>\n",
       "      <td>0</td>\n",
       "      <td>0</td>\n",
       "      <td>0</td>\n",
       "      <td>0</td>\n",
       "      <td>0</td>\n",
       "      <td>1</td>\n",
       "      <td>0</td>\n",
       "    </tr>\n",
       "    <tr>\n",
       "      <th>98</th>\n",
       "      <td>0</td>\n",
       "      <td>1</td>\n",
       "      <td>1</td>\n",
       "      <td>0</td>\n",
       "      <td>0</td>\n",
       "      <td>0</td>\n",
       "      <td>1</td>\n",
       "      <td>0</td>\n",
       "      <td>1</td>\n",
       "      <td>0</td>\n",
       "      <td>0</td>\n",
       "      <td>0</td>\n",
       "      <td>0</td>\n",
       "      <td>0</td>\n",
       "      <td>0</td>\n",
       "      <td>0</td>\n",
       "      <td>0</td>\n",
       "      <td>1</td>\n",
       "    </tr>\n",
       "    <tr>\n",
       "      <th>177</th>\n",
       "      <td>0</td>\n",
       "      <td>1</td>\n",
       "      <td>0</td>\n",
       "      <td>0</td>\n",
       "      <td>1</td>\n",
       "      <td>1</td>\n",
       "      <td>0</td>\n",
       "      <td>0</td>\n",
       "      <td>1</td>\n",
       "      <td>0</td>\n",
       "      <td>0</td>\n",
       "      <td>0</td>\n",
       "      <td>0</td>\n",
       "      <td>0</td>\n",
       "      <td>0</td>\n",
       "      <td>0</td>\n",
       "      <td>1</td>\n",
       "      <td>0</td>\n",
       "    </tr>\n",
       "  </tbody>\n",
       "</table>\n",
       "</div>"
      ],
      "text/plain": [
       "     Sex_F  Sex_M  BP_HIGH  BP_LOW  BP_NORMAL  Cholesterol_HIGH  \\\n",
       "18       0      1        0       1          0                 1   \n",
       "170      1      0        0       0          1                 1   \n",
       "107      0      1        0       1          0                 1   \n",
       "98       0      1        1       0          0                 0   \n",
       "177      0      1        0       0          1                 1   \n",
       "\n",
       "     Cholesterol_NORMAL  Age_binned_<20s  Age_binned_20s  Age_binned_30s  \\\n",
       "18                    0                0               1               0   \n",
       "170                   0                0               1               0   \n",
       "107                   0                0               0               0   \n",
       "98                    1                0               1               0   \n",
       "177                   0                0               1               0   \n",
       "\n",
       "     Age_binned_40s  Age_binned_50s  Age_binned_60s  Age_binned_>60s  \\\n",
       "18                0               0               0                0   \n",
       "170               0               0               0                0   \n",
       "107               1               0               0                0   \n",
       "98                0               0               0                0   \n",
       "177               0               0               0                0   \n",
       "\n",
       "     Na_to_K_binned_<10  Na_to_K_binned_10-20  Na_to_K_binned_20-30  \\\n",
       "18                    1                     0                     0   \n",
       "170                   0                     1                     0   \n",
       "107                   0                     0                     1   \n",
       "98                    0                     0                     0   \n",
       "177                   0                     0                     1   \n",
       "\n",
       "     Na_to_K_binned_>30  \n",
       "18                    0  \n",
       "170                   0  \n",
       "107                   0  \n",
       "98                    1  \n",
       "177                   0  "
      ]
     },
     "execution_count": 65,
     "metadata": {},
     "output_type": "execute_result"
    }
   ],
   "source": [
    "X_test.head()"
   ]
  },
  {
   "cell_type": "code",
   "execution_count": 66,
   "id": "042ca07a",
   "metadata": {
    "execution": {
     "iopub.execute_input": "2022-05-21T13:05:23.943176Z",
     "iopub.status.busy": "2022-05-21T13:05:23.942828Z",
     "iopub.status.idle": "2022-05-21T13:05:24.527910Z",
     "shell.execute_reply": "2022-05-21T13:05:24.526838Z"
    },
    "papermill": {
     "duration": 0.648478,
     "end_time": "2022-05-21T13:05:24.530586",
     "exception": false,
     "start_time": "2022-05-21T13:05:23.882108",
     "status": "completed"
    },
    "tags": []
   },
   "outputs": [
    {
     "ename": "ModuleNotFoundError",
     "evalue": "No module named 'imblearn'",
     "output_type": "error",
     "traceback": [
      "\u001b[1;31m---------------------------------------------------------------------------\u001b[0m",
      "\u001b[1;31mModuleNotFoundError\u001b[0m                       Traceback (most recent call last)",
      "Input \u001b[1;32mIn [66]\u001b[0m, in \u001b[0;36m<cell line: 1>\u001b[1;34m()\u001b[0m\n\u001b[1;32m----> 1\u001b[0m \u001b[38;5;28;01mfrom\u001b[39;00m \u001b[38;5;21;01mimblearn\u001b[39;00m\u001b[38;5;21;01m.\u001b[39;00m\u001b[38;5;21;01mover_sampling\u001b[39;00m \u001b[38;5;28;01mimport\u001b[39;00m SMOTE\n\u001b[0;32m      2\u001b[0m X_train, y_train \u001b[38;5;241m=\u001b[39m SMOTE()\u001b[38;5;241m.\u001b[39mfit_resample(X_train, y_train)\n",
      "\u001b[1;31mModuleNotFoundError\u001b[0m: No module named 'imblearn'"
     ]
    }
   ],
   "source": [
    "from imblearn.over_sampling import SMOTE\n",
    "X_train, y_train = SMOTE().fit_resample(X_train, y_train)"
   ]
  },
  {
   "cell_type": "code",
   "execution_count": 67,
   "id": "bd5eb994",
   "metadata": {
    "execution": {
     "iopub.execute_input": "2022-05-21T13:05:24.651067Z",
     "iopub.status.busy": "2022-05-21T13:05:24.649940Z",
     "iopub.status.idle": "2022-05-21T13:05:24.841293Z",
     "shell.execute_reply": "2022-05-21T13:05:24.840319Z"
    },
    "papermill": {
     "duration": 0.254104,
     "end_time": "2022-05-21T13:05:24.843790",
     "exception": false,
     "start_time": "2022-05-21T13:05:24.589686",
     "status": "completed"
    },
    "tags": []
   },
   "outputs": [
    {
     "data": {
      "image/png": "[encoded data removed]",
      "text/plain": [
       "<Figure size 432x288 with 1 Axes>"
      ]
     },
     "metadata": {},
     "output_type": "display_data"
    }
   ],
   "source": [
    "sns.set_theme(style=\"darkgrid\")\n",
    "sns.countplot(y=y_train, data=df_drug, palette=\"mako_r\")\n",
    "plt.ylabel('Drug Type')\n",
    "plt.xlabel('Total')\n",
    "plt.show()"
   ]
  },
  {
   "cell_type": "code",
   "execution_count": 68,
   "id": "a1ea0269",
   "metadata": {
    "execution": {
     "iopub.execute_input": "2022-05-21T13:05:24.966571Z",
     "iopub.status.busy": "2022-05-21T13:05:24.966244Z",
     "iopub.status.idle": "2022-05-21T13:05:25.002867Z",
     "shell.execute_reply": "2022-05-21T13:05:25.002192Z"
    },
    "papermill": {
     "duration": 0.101023,
     "end_time": "2022-05-21T13:05:25.005792",
     "exception": false,
     "start_time": "2022-05-21T13:05:24.904769",
     "status": "completed"
    },
    "tags": []
   },
   "outputs": [
    {
     "name": "stdout",
     "output_type": "stream",
     "text": [
      "              precision    recall  f1-score   support\n",
      "\n",
      "       DrugY       0.95      0.70      0.81        30\n",
      "       drugA       0.67      0.80      0.73         5\n",
      "       drugB       0.75      1.00      0.86         3\n",
      "       drugC       0.67      1.00      0.80         4\n",
      "       drugX       0.82      1.00      0.90        18\n",
      "\n",
      "    accuracy                           0.83        60\n",
      "   macro avg       0.77      0.90      0.82        60\n",
      "weighted avg       0.86      0.83      0.83        60\n",
      "\n",
      "[[21  2  1  2  4]\n",
      " [ 1  4  0  0  0]\n",
      " [ 0  0  3  0  0]\n",
      " [ 0  0  0  4  0]\n",
      " [ 0  0  0  0 18]]\n",
      "Logistic Regression accuracy is: 83.33%\n"
     ]
    }
   ],
   "source": [
    "from sklearn.linear_model import LogisticRegression\n",
    "LRclassifier = LogisticRegression(solver='liblinear', max_iter=5000)\n",
    "LRclassifier.fit(X_train, y_train)\n",
    "\n",
    "y_pred = LRclassifier.predict(X_test)\n",
    "\n",
    "print(classification_report(y_test, y_pred))\n",
    "print(confusion_matrix(y_test, y_pred))\n",
    "\n",
    "from sklearn.metrics import accuracy_score\n",
    "LRAcc = accuracy_score(y_pred,y_test)\n",
    "print('Logistic Regression accuracy is: {:.2f}%'.format(LRAcc*100))"
   ]
  },
  {
   "cell_type": "code",
   "execution_count": 69,
   "id": "ad4dcc64",
   "metadata": {
    "execution": {
     "iopub.execute_input": "2022-05-21T13:05:25.128346Z",
     "iopub.status.busy": "2022-05-21T13:05:25.127405Z",
     "iopub.status.idle": "2022-05-21T13:05:25.152930Z",
     "shell.execute_reply": "2022-05-21T13:05:25.152002Z"
    },
    "papermill": {
     "duration": 0.088903,
     "end_time": "2022-05-21T13:05:25.155955",
     "exception": false,
     "start_time": "2022-05-21T13:05:25.067052",
     "status": "completed"
    },
    "tags": []
   },
   "outputs": [
    {
     "name": "stdout",
     "output_type": "stream",
     "text": [
      "              precision    recall  f1-score   support\n",
      "\n",
      "       DrugY       0.65      0.73      0.69        30\n",
      "       drugA       0.67      0.40      0.50         5\n",
      "       drugB       0.00      0.00      0.00         3\n",
      "       drugC       0.00      0.00      0.00         4\n",
      "       drugX       0.71      0.83      0.77        18\n",
      "\n",
      "    accuracy                           0.65        60\n",
      "   macro avg       0.41      0.39      0.39        60\n",
      "weighted avg       0.59      0.65      0.62        60\n",
      "\n",
      "[[22  0  1  1  6]\n",
      " [ 3  2  0  0  0]\n",
      " [ 2  1  0  0  0]\n",
      " [ 4  0  0  0  0]\n",
      " [ 3  0  0  0 15]]\n",
      "K Neighbours accuracy is: 65.00%\n"
     ]
    }
   ],
   "source": [
    "from sklearn.neighbors import KNeighborsClassifier\n",
    "KNclassifier = KNeighborsClassifier(n_neighbors=20)\n",
    "KNclassifier.fit(X_train, y_train)\n",
    "\n",
    "y_pred = KNclassifier.predict(X_test)\n",
    "\n",
    "print(classification_report(y_test, y_pred))\n",
    "print(confusion_matrix(y_test, y_pred))\n",
    "\n",
    "from sklearn.metrics import accuracy_score\n",
    "KNAcc = accuracy_score(y_pred,y_test)\n",
    "print('K Neighbours accuracy is: {:.2f}%'.format(KNAcc*100))"
   ]
  },
  {
   "cell_type": "code",
   "execution_count": 70,
   "id": "a0326367",
   "metadata": {
    "execution": {
     "iopub.execute_input": "2022-05-21T13:05:25.332053Z",
     "iopub.status.busy": "2022-05-21T13:05:25.331682Z",
     "iopub.status.idle": "2022-05-21T13:05:26.086242Z",
     "shell.execute_reply": "2022-05-21T13:05:26.084979Z"
    },
    "papermill": {
     "duration": 0.820048,
     "end_time": "2022-05-21T13:05:26.089672",
     "exception": false,
     "start_time": "2022-05-21T13:05:25.269624",
     "status": "completed"
    },
    "tags": []
   },
   "outputs": [
    {
     "data": {
      "image/png": "[encoded data removed]",
      "text/plain": [
       "<Figure size 432x288 with 1 Axes>"
      ]
     },
     "metadata": {},
     "output_type": "display_data"
    },
    {
     "name": "stdout",
     "output_type": "stream",
     "text": [
      "KNN Acc Max 75.00%\n"
     ]
    }
   ],
   "source": [
    "scoreListknn = []\n",
    "for i in range(1,30):\n",
    "    KNclassifier = KNeighborsClassifier(n_neighbors = i)\n",
    "    KNclassifier.fit(X_train, y_train)\n",
    "    scoreListknn.append(KNclassifier.score(X_test, y_test))\n",
    "    \n",
    "plt.plot(range(1,30), scoreListknn)\n",
    "plt.xticks(np.arange(1,30,1))\n",
    "plt.xlabel(\"K value\")\n",
    "plt.ylabel(\"Score\")\n",
    "plt.show()\n",
    "KNAccMax = max(scoreListknn)\n",
    "print(\"KNN Acc Max {:.2f}%\".format(KNAccMax*100))"
   ]
  },
  {
   "cell_type": "code",
   "execution_count": 71,
   "id": "7167c869",
   "metadata": {
    "execution": {
     "iopub.execute_input": "2022-05-21T13:05:26.217745Z",
     "iopub.status.busy": "2022-05-21T13:05:26.217383Z",
     "iopub.status.idle": "2022-05-21T13:05:26.244967Z",
     "shell.execute_reply": "2022-05-21T13:05:26.243589Z"
    },
    "papermill": {
     "duration": 0.09569,
     "end_time": "2022-05-21T13:05:26.248703",
     "exception": false,
     "start_time": "2022-05-21T13:05:26.153013",
     "status": "completed"
    },
    "tags": []
   },
   "outputs": [
    {
     "name": "stdout",
     "output_type": "stream",
     "text": [
      "              precision    recall  f1-score   support\n",
      "\n",
      "       DrugY       1.00      0.70      0.82        30\n",
      "       drugA       0.71      1.00      0.83         5\n",
      "       drugB       0.75      1.00      0.86         3\n",
      "       drugC       0.67      1.00      0.80         4\n",
      "       drugX       0.82      1.00      0.90        18\n",
      "\n",
      "    accuracy                           0.85        60\n",
      "   macro avg       0.79      0.94      0.84        60\n",
      "weighted avg       0.89      0.85      0.85        60\n",
      "\n",
      "[[21  2  1  2  4]\n",
      " [ 0  5  0  0  0]\n",
      " [ 0  0  3  0  0]\n",
      " [ 0  0  0  4  0]\n",
      " [ 0  0  0  0 18]]\n",
      "SVC accuracy is: 85.00%\n"
     ]
    }
   ],
   "source": [
    "from sklearn.svm import SVC\n",
    "SVCclassifier = SVC(kernel='linear', max_iter=251)\n",
    "SVCclassifier.fit(X_train, y_train)\n",
    "\n",
    "y_pred = SVCclassifier.predict(X_test)\n",
    "\n",
    "print(classification_report(y_test, y_pred))\n",
    "print(confusion_matrix(y_test, y_pred))\n",
    "\n",
    "from sklearn.metrics import accuracy_score\n",
    "SVCAcc = accuracy_score(y_pred,y_test)\n",
    "print('SVC accuracy is: {:.2f}%'.format(SVCAcc*100))"
   ]
  },
  {
   "cell_type": "code",
   "execution_count": 72,
   "id": "ff8e9a7d",
   "metadata": {
    "execution": {
     "iopub.execute_input": "2022-05-21T13:05:26.377103Z",
     "iopub.status.busy": "2022-05-21T13:05:26.376741Z",
     "iopub.status.idle": "2022-05-21T13:05:26.403440Z",
     "shell.execute_reply": "2022-05-21T13:05:26.402763Z"
    },
    "papermill": {
     "duration": 0.096547,
     "end_time": "2022-05-21T13:05:26.408366",
     "exception": false,
     "start_time": "2022-05-21T13:05:26.311819",
     "status": "completed"
    },
    "tags": []
   },
   "outputs": [
    {
     "name": "stdout",
     "output_type": "stream",
     "text": [
      "              precision    recall  f1-score   support\n",
      "\n",
      "       DrugY       0.95      0.67      0.78        30\n",
      "       drugA       0.62      1.00      0.77         5\n",
      "       drugB       0.75      1.00      0.86         3\n",
      "       drugC       0.67      1.00      0.80         4\n",
      "       drugX       0.81      0.94      0.87        18\n",
      "\n",
      "    accuracy                           0.82        60\n",
      "   macro avg       0.76      0.92      0.82        60\n",
      "weighted avg       0.85      0.82      0.81        60\n",
      "\n",
      "[[20  3  1  2  4]\n",
      " [ 0  5  0  0  0]\n",
      " [ 0  0  3  0  0]\n",
      " [ 0  0  0  4  0]\n",
      " [ 1  0  0  0 17]]\n",
      "Naive Bayes accuracy is: 81.67%\n"
     ]
    }
   ],
   "source": [
    "from sklearn.naive_bayes import CategoricalNB\n",
    "NBclassifier1 = CategoricalNB()\n",
    "NBclassifier1.fit(X_train, y_train)\n",
    "\n",
    "y_pred = NBclassifier1.predict(X_test)\n",
    "\n",
    "print(classification_report(y_test, y_pred))\n",
    "print(confusion_matrix(y_test, y_pred))\n",
    "\n",
    "from sklearn.metrics import accuracy_score\n",
    "NBAcc1 = accuracy_score(y_pred,y_test)\n",
    "print('Naive Bayes accuracy is: {:.2f}%'.format(NBAcc1*100))"
   ]
  },
  {
   "cell_type": "code",
   "execution_count": 73,
   "id": "946b83e3",
   "metadata": {
    "execution": {
     "iopub.execute_input": "2022-05-21T13:05:26.565970Z",
     "iopub.status.busy": "2022-05-21T13:05:26.565703Z",
     "iopub.status.idle": "2022-05-21T13:05:26.586128Z",
     "shell.execute_reply": "2022-05-21T13:05:26.584973Z"
    },
    "papermill": {
     "duration": 0.092795,
     "end_time": "2022-05-21T13:05:26.588485",
     "exception": false,
     "start_time": "2022-05-21T13:05:26.495690",
     "status": "completed"
    },
    "tags": []
   },
   "outputs": [
    {
     "name": "stdout",
     "output_type": "stream",
     "text": [
      "              precision    recall  f1-score   support\n",
      "\n",
      "       DrugY       1.00      0.70      0.82        30\n",
      "       drugA       0.71      1.00      0.83         5\n",
      "       drugB       0.75      1.00      0.86         3\n",
      "       drugC       0.67      1.00      0.80         4\n",
      "       drugX       0.82      1.00      0.90        18\n",
      "\n",
      "    accuracy                           0.85        60\n",
      "   macro avg       0.79      0.94      0.84        60\n",
      "weighted avg       0.89      0.85      0.85        60\n",
      "\n",
      "[[21  2  1  2  4]\n",
      " [ 0  5  0  0  0]\n",
      " [ 0  0  3  0  0]\n",
      " [ 0  0  0  4  0]\n",
      " [ 0  0  0  0 18]]\n",
      "Gaussian Naive Bayes accuracy is: 85.00%\n"
     ]
    }
   ],
   "source": [
    "from sklearn.naive_bayes import GaussianNB\n",
    "NBclassifier2 = GaussianNB()\n",
    "NBclassifier2.fit(X_train, y_train)\n",
    "\n",
    "y_pred = NBclassifier2.predict(X_test)\n",
    "\n",
    "print(classification_report(y_test, y_pred))\n",
    "print(confusion_matrix(y_test, y_pred))\n",
    "\n",
    "from sklearn.metrics import accuracy_score\n",
    "NBAcc2 = accuracy_score(y_pred,y_test)\n",
    "print('Gaussian Naive Bayes accuracy is: {:.2f}%'.format(NBAcc2*100))"
   ]
  },
  {
   "cell_type": "code",
   "execution_count": 74,
   "id": "6a1bd938",
   "metadata": {
    "execution": {
     "iopub.execute_input": "2022-05-21T13:05:26.717382Z",
     "iopub.status.busy": "2022-05-21T13:05:26.717077Z",
     "iopub.status.idle": "2022-05-21T13:05:26.737309Z",
     "shell.execute_reply": "2022-05-21T13:05:26.736677Z"
    },
    "papermill": {
     "duration": 0.088009,
     "end_time": "2022-05-21T13:05:26.740148",
     "exception": false,
     "start_time": "2022-05-21T13:05:26.652139",
     "status": "completed"
    },
    "tags": []
   },
   "outputs": [
    {
     "name": "stdout",
     "output_type": "stream",
     "text": [
      "              precision    recall  f1-score   support\n",
      "\n",
      "       DrugY       0.83      0.67      0.74        30\n",
      "       drugA       0.43      0.60      0.50         5\n",
      "       drugB       0.75      1.00      0.86         3\n",
      "       drugC       0.67      1.00      0.80         4\n",
      "       drugX       0.84      0.89      0.86        18\n",
      "\n",
      "    accuracy                           0.77        60\n",
      "   macro avg       0.70      0.83      0.75        60\n",
      "weighted avg       0.79      0.77      0.77        60\n",
      "\n",
      "[[20  4  1  2  3]\n",
      " [ 2  3  0  0  0]\n",
      " [ 0  0  3  0  0]\n",
      " [ 0  0  0  4  0]\n",
      " [ 2  0  0  0 16]]\n",
      "Decision Tree accuracy is: 76.67%\n"
     ]
    }
   ],
   "source": [
    "from sklearn.tree import DecisionTreeClassifier\n",
    "DTclassifier = DecisionTreeClassifier(max_leaf_nodes=20)\n",
    "DTclassifier.fit(X_train, y_train)\n",
    "\n",
    "y_pred = DTclassifier.predict(X_test)\n",
    "\n",
    "print(classification_report(y_test, y_pred))\n",
    "print(confusion_matrix(y_test, y_pred))\n",
    "\n",
    "from sklearn.metrics import accuracy_score\n",
    "DTAcc = accuracy_score(y_pred,y_test)\n",
    "print('Decision Tree accuracy is: {:.2f}%'.format(DTAcc*100))"
   ]
  },
  {
   "cell_type": "code",
   "execution_count": 75,
   "id": "bfe1d6f6",
   "metadata": {
    "execution": {
     "iopub.execute_input": "2022-05-21T13:05:26.870750Z",
     "iopub.status.busy": "2022-05-21T13:05:26.870477Z",
     "iopub.status.idle": "2022-05-21T13:05:27.288276Z",
     "shell.execute_reply": "2022-05-21T13:05:27.287342Z"
    },
    "papermill": {
     "duration": 0.486716,
     "end_time": "2022-05-21T13:05:27.290820",
     "exception": false,
     "start_time": "2022-05-21T13:05:26.804104",
     "status": "completed"
    },
    "tags": []
   },
   "outputs": [
    {
     "data": {
      "image/png": "[encoded data removed]",
      "text/plain": [
       "<Figure size 432x288 with 1 Axes>"
      ]
     },
     "metadata": {},
     "output_type": "display_data"
    },
    {
     "name": "stdout",
     "output_type": "stream",
     "text": [
      "DT Acc Max 80.00%\n"
     ]
    }
   ],
   "source": [
    "scoreListDT = []\n",
    "for i in range(2,50):\n",
    "    DTclassifier = DecisionTreeClassifier(max_leaf_nodes=i)\n",
    "    DTclassifier.fit(X_train, y_train)\n",
    "    scoreListDT.append(DTclassifier.score(X_test, y_test))\n",
    "    \n",
    "plt.plot(range(2,50), scoreListDT)\n",
    "plt.xticks(np.arange(2,50,5))\n",
    "plt.xlabel(\"Leaf\")\n",
    "plt.ylabel(\"Score\")\n",
    "plt.show()\n",
    "DTAccMax = max(scoreListDT)\n",
    "print(\"DT Acc Max {:.2f}%\".format(DTAccMax*100))"
   ]
  },
  {
   "cell_type": "code",
   "execution_count": 87,
   "id": "69426880",
   "metadata": {
    "execution": {
     "iopub.execute_input": "2022-05-21T13:05:27.424735Z",
     "iopub.status.busy": "2022-05-21T13:05:27.424376Z",
     "iopub.status.idle": "2022-05-21T13:05:27.642532Z",
     "shell.execute_reply": "2022-05-21T13:05:27.641125Z"
    },
    "papermill": {
     "duration": 0.289312,
     "end_time": "2022-05-21T13:05:27.644969",
     "exception": false,
     "start_time": "2022-05-21T13:05:27.355657",
     "status": "completed"
    },
    "tags": []
   },
   "outputs": [
    {
     "name": "stdout",
     "output_type": "stream",
     "text": [
      "              precision    recall  f1-score   support\n",
      "\n",
      "       DrugY       0.88      0.73      0.80        30\n",
      "       drugA       0.67      0.80      0.73         5\n",
      "       drugB       0.75      1.00      0.86         3\n",
      "       drugC       0.67      1.00      0.80         4\n",
      "       drugX       0.84      0.89      0.86        18\n",
      "\n",
      "    accuracy                           0.82        60\n",
      "   macro avg       0.76      0.88      0.81        60\n",
      "weighted avg       0.83      0.82      0.82        60\n",
      "\n",
      "[[22  2  1  2  3]\n",
      " [ 1  4  0  0  0]\n",
      " [ 0  0  3  0  0]\n",
      " [ 0  0  0  4  0]\n",
      " [ 2  0  0  0 16]]\n",
      "Random Forest accuracy is: 81.67%\n"
     ]
    }
   ],
   "source": [
    "from sklearn.ensemble import RandomForestClassifier\n",
    "\n",
    "RFclassifier = RandomForestClassifier(max_leaf_nodes=30)\n",
    "RFclassifier.fit(X_train, y_train)\n",
    "\n",
    "y_pred = RFclassifier.predict(X_test)\n",
    "\n",
    "print(classification_report(y_test, y_pred))\n",
    "print(confusion_matrix(y_test, y_pred))\n",
    "\n",
    "from sklearn.metrics import accuracy_score\n",
    "RFAcc = accuracy_score(y_pred,y_test)\n",
    "print('Random Forest accuracy is: {:.2f}%'.format(RFAcc*100))"
   ]
  },
  {
   "cell_type": "code",
   "execution_count": 77,
   "id": "48405e7d",
   "metadata": {
    "execution": {
     "iopub.execute_input": "2022-05-21T13:05:27.777377Z",
     "iopub.status.busy": "2022-05-21T13:05:27.776883Z",
     "iopub.status.idle": "2022-05-21T13:06:59.476517Z",
     "shell.execute_reply": "2022-05-21T13:06:59.475533Z"
    },
    "papermill": {
     "duration": 91.835977,
     "end_time": "2022-05-21T13:06:59.545947",
     "exception": false,
     "start_time": "2022-05-21T13:05:27.709970",
     "status": "completed"
    },
    "tags": []
   },
   "outputs": [
    {
     "data": {
      "image/png": "[encoded data removed]",
      "text/plain": [
       "<Figure size 432x288 with 1 Axes>"
      ]
     },
     "metadata": {},
     "output_type": "display_data"
    },
    {
     "name": "stdout",
     "output_type": "stream",
     "text": [
      "RF Acc Max 85.00%\n"
     ]
    }
   ],
   "source": [
    "scoreListRF = []\n",
    "for i in range(2,50):\n",
    "    RFclassifier = RandomForestClassifier(n_estimators = 1000, random_state = 1, max_leaf_nodes=i)\n",
    "    RFclassifier.fit(X_train, y_train)\n",
    "    scoreListRF.append(RFclassifier.score(X_test, y_test))\n",
    "    \n",
    "plt.plot(range(2,50), scoreListRF)\n",
    "plt.xticks(np.arange(2,50,5))\n",
    "plt.xlabel(\"RF Value\")\n",
    "plt.ylabel(\"Score\")\n",
    "plt.show()\n",
    "RFAccMax = max(scoreListRF)\n",
    "print(\"RF Acc Max {:.2f}%\".format(RFAccMax*100))"
   ]
  },
  {
   "cell_type": "code",
   "execution_count": 83,
   "id": "68c13119",
   "metadata": {
    "execution": {
     "iopub.execute_input": "2022-05-21T13:06:59.681756Z",
     "iopub.status.busy": "2022-05-21T13:06:59.681036Z",
     "iopub.status.idle": "2022-05-21T13:06:59.697450Z",
     "shell.execute_reply": "2022-05-21T13:06:59.696490Z"
    },
    "papermill": {
     "duration": 0.086897,
     "end_time": "2022-05-21T13:06:59.699745",
     "exception": false,
     "start_time": "2022-05-21T13:06:59.612848",
     "status": "completed"
    },
    "tags": []
   },
   "outputs": [
    {
     "data": {
      "text/html": [
       "<div>\n",
       "<style scoped>\n",
       "    .dataframe tbody tr th:only-of-type {\n",
       "        vertical-align: middle;\n",
       "    }\n",
       "\n",
       "    .dataframe tbody tr th {\n",
       "        vertical-align: top;\n",
       "    }\n",
       "\n",
       "    .dataframe thead th {\n",
       "        text-align: right;\n",
       "    }\n",
       "</style>\n",
       "<table border=\"1\" class=\"dataframe\">\n",
       "  <thead>\n",
       "    <tr style=\"text-align: right;\">\n",
       "      <th></th>\n",
       "      <th>Model</th>\n",
       "      <th>Accuracy</th>\n",
       "    </tr>\n",
       "  </thead>\n",
       "  <tbody>\n",
       "    <tr>\n",
       "      <th>3</th>\n",
       "      <td>SVM</td>\n",
       "      <td>85.000000</td>\n",
       "    </tr>\n",
       "    <tr>\n",
       "      <th>5</th>\n",
       "      <td>Gaussian NB</td>\n",
       "      <td>85.000000</td>\n",
       "    </tr>\n",
       "    <tr>\n",
       "      <th>9</th>\n",
       "      <td>Random Forest Max</td>\n",
       "      <td>85.000000</td>\n",
       "    </tr>\n",
       "    <tr>\n",
       "      <th>0</th>\n",
       "      <td>Logistic Regression</td>\n",
       "      <td>83.333333</td>\n",
       "    </tr>\n",
       "    <tr>\n",
       "      <th>8</th>\n",
       "      <td>Random Forest</td>\n",
       "      <td>83.333333</td>\n",
       "    </tr>\n",
       "    <tr>\n",
       "      <th>4</th>\n",
       "      <td>Categorical NB</td>\n",
       "      <td>81.666667</td>\n",
       "    </tr>\n",
       "    <tr>\n",
       "      <th>7</th>\n",
       "      <td>Decision Tree Max</td>\n",
       "      <td>80.000000</td>\n",
       "    </tr>\n",
       "    <tr>\n",
       "      <th>6</th>\n",
       "      <td>Decision Tree</td>\n",
       "      <td>76.666667</td>\n",
       "    </tr>\n",
       "    <tr>\n",
       "      <th>2</th>\n",
       "      <td>K Neighbors Max</td>\n",
       "      <td>75.000000</td>\n",
       "    </tr>\n",
       "    <tr>\n",
       "      <th>1</th>\n",
       "      <td>K Neighbors</td>\n",
       "      <td>65.000000</td>\n",
       "    </tr>\n",
       "  </tbody>\n",
       "</table>\n",
       "</div>"
      ],
      "text/plain": [
       "                 Model   Accuracy\n",
       "3                  SVM  85.000000\n",
       "5          Gaussian NB  85.000000\n",
       "9    Random Forest Max  85.000000\n",
       "0  Logistic Regression  83.333333\n",
       "8        Random Forest  83.333333\n",
       "4       Categorical NB  81.666667\n",
       "7    Decision Tree Max  80.000000\n",
       "6        Decision Tree  76.666667\n",
       "2      K Neighbors Max  75.000000\n",
       "1          K Neighbors  65.000000"
      ]
     },
     "execution_count": 83,
     "metadata": {},
     "output_type": "execute_result"
    }
   ],
   "source": [
    "compare = pd.DataFrame({'Model': ['Logistic Regression', 'K Neighbors', 'K Neighbors Max', 'SVM', 'Categorical NB', 'Gaussian NB', 'Decision Tree', 'Decision Tree Max', 'Random Forest', 'Random Forest Max'], \n",
    "                        'Accuracy': [LRAcc*100, KNAcc*100, KNAccMax*100, SVCAcc*100, NBAcc1*100, NBAcc2*100, DTAcc*100, DTAccMax*100, RFAcc*100, RFAccMax*100]})\n",
    "compare.sort_values(by='Accuracy', ascending=False)"
   ]
  },
  {
   "cell_type": "code",
   "execution_count": 84,
   "id": "55a461e6",
   "metadata": {
    "execution": {
     "iopub.execute_input": "2022-05-21T13:06:59.838055Z",
     "iopub.status.busy": "2022-05-21T13:06:59.837662Z",
     "iopub.status.idle": "2022-05-21T13:06:59.854669Z",
     "shell.execute_reply": "2022-05-21T13:06:59.853723Z"
    },
    "papermill": {
     "duration": 0.090343,
     "end_time": "2022-05-21T13:06:59.857184",
     "exception": false,
     "start_time": "2022-05-21T13:06:59.766841",
     "status": "completed"
    },
    "tags": []
   },
   "outputs": [],
   "source": [
    "pred_lr = NBclassifier1.predict(X_test)\n",
    "prediction = pd.DataFrame({'Sex_F': X_test.loc[:,\"Sex_F\"], \n",
    "                           'Sex_M': X_test.loc[:,\"Sex_M\"], \n",
    "                           'BP_HIGH': X_test.loc[:,\"BP_HIGH\"], \n",
    "                           'BP_LOW': X_test.loc[:,\"BP_LOW\"],\n",
    "                           'BP_NORMAL': X_test.loc[:,\"BP_NORMAL\"],\n",
    "                           'Cholesterol_HIGH': X_test.loc[:,\"Cholesterol_HIGH\"],\n",
    "                           'Cholesterol_NORMAL': X_test.loc[:,\"Cholesterol_NORMAL\"],\n",
    "                           'Age_binned_<20s': X_test.loc[:,\"Age_binned_<20s\"],\n",
    "                           'Age_binned_20s': X_test.loc[:,\"Age_binned_20s\"],\n",
    "                           'Age_binned_30s': X_test.loc[:,\"Age_binned_30s\"],\n",
    "                           'Age_binned_40s': X_test.loc[:,\"Age_binned_40s\"],\n",
    "                           'Age_binned_50s': X_test.loc[:,\"Age_binned_50s\"],\n",
    "                           'Age_binned_60s': X_test.loc[:,\"Age_binned_60s\"],\n",
    "                           'Age_binned_>60s': X_test.loc[:,\"Age_binned_>60s\"],\n",
    "                           'Na_to_K_binned_<10': X_test.loc[:,\"Na_to_K_binned_<10\"],\n",
    "                           'Na_to_K_binned_10-20': X_test.loc[:,\"Na_to_K_binned_10-20\"],\n",
    "                           'Na_to_K_binned_20-30': X_test.loc[:,\"Na_to_K_binned_20-30\"],\n",
    "                           'Na_to_K_binned_>30': X_test.loc[:,\"Na_to_K_binned_>30\"],'DrugType': pred_lr})"
   ]
  },
  {
   "cell_type": "code",
   "execution_count": 85,
   "id": "3fe603a3",
   "metadata": {
    "execution": {
     "iopub.execute_input": "2022-05-21T13:06:59.994368Z",
     "iopub.status.busy": "2022-05-21T13:06:59.994020Z",
     "iopub.status.idle": "2022-05-21T13:07:00.039694Z",
     "shell.execute_reply": "2022-05-21T13:07:00.038770Z"
    },
    "papermill": {
     "duration": 0.117329,
     "end_time": "2022-05-21T13:07:00.042151",
     "exception": false,
     "start_time": "2022-05-21T13:06:59.924822",
     "status": "completed"
    },
    "tags": []
   },
   "outputs": [],
   "source": [
    "\n",
    "prediction['Sex_F'] = prediction['Sex_F'].replace([1, 0],['Female', 'Male'])\n",
    "\n",
    "\n",
    "prediction['BP_HIGH'] = prediction['BP_HIGH'].replace([1, 0],['High',''])\n",
    "prediction['BP_LOW'] = prediction['BP_LOW'].replace([1, 0],['Low', ''])\n",
    "prediction['BP_NORMAL'] = prediction['BP_NORMAL'].replace([1, 0],['Normal', ''])\n",
    "\n",
    "prediction['BP_HIGH'] = np.where((prediction['BP_HIGH'] == ''), prediction['BP_LOW'], prediction['BP_HIGH'])\n",
    "prediction['BP_HIGH'] = np.where((prediction['BP_HIGH'] == ''), prediction['BP_NORMAL'], prediction['BP_HIGH'])\n",
    "\n",
    "\n",
    "prediction['Cholesterol_HIGH'] = prediction['Cholesterol_HIGH'].replace([1, 0],['High', 'Normal'])\n",
    "prediction['Age_binned_<20s'] = prediction['Age_binned_<20s'].replace([1, 0],['<20s',''])\n",
    "prediction['Age_binned_20s'] = prediction['Age_binned_20s'].replace([1, 0],['20s',''])\n",
    "prediction['Age_binned_30s'] = prediction['Age_binned_30s'].replace([1, 0],['30s',''])\n",
    "prediction['Age_binned_40s'] = prediction['Age_binned_40s'].replace([1, 0],['40s',''])\n",
    "prediction['Age_binned_50s'] = prediction['Age_binned_50s'].replace([1, 0],['50s',''])\n",
    "prediction['Age_binned_60s'] = prediction['Age_binned_60s'].replace([1, 0],['60s',''])\n",
    "prediction['Age_binned_>60s'] = prediction['Age_binned_>60s'].replace([1, 0],['>60s',''])\n",
    "\n",
    "prediction['Age_binned_<20s'] = np.where((prediction['Age_binned_<20s'] == ''), prediction['Age_binned_20s'], prediction['Age_binned_<20s'])\n",
    "prediction['Age_binned_<20s'] = np.where((prediction['Age_binned_<20s'] == ''), prediction['Age_binned_30s'], prediction['Age_binned_<20s'])\n",
    "prediction['Age_binned_<20s'] = np.where((prediction['Age_binned_<20s'] == ''), prediction['Age_binned_40s'], prediction['Age_binned_<20s'])\n",
    "prediction['Age_binned_<20s'] = np.where((prediction['Age_binned_<20s'] == ''), prediction['Age_binned_50s'], prediction['Age_binned_<20s'])\n",
    "prediction['Age_binned_<20s'] = np.where((prediction['Age_binned_<20s'] == ''), prediction['Age_binned_60s'], prediction['Age_binned_<20s'])\n",
    "prediction['Age_binned_<20s'] = np.where((prediction['Age_binned_<20s'] == ''), prediction['Age_binned_>60s'], prediction['Age_binned_<20s'])\n",
    "prediction['Na_to_K_binned_<10'] = prediction['Na_to_K_binned_<10'].replace([1, 0],['<10',''])\n",
    "prediction['Na_to_K_binned_10-20'] = prediction['Na_to_K_binned_10-20'].replace([1, 0],['10-20',''])\n",
    "prediction['Na_to_K_binned_20-30'] = prediction['Na_to_K_binned_20-30'].replace([1, 0],['20-30',''])\n",
    "prediction['Na_to_K_binned_>30'] = prediction['Na_to_K_binned_>30'].replace([1, 0],['>30s',''])\n",
    "\n",
    "prediction['Na_to_K_binned_<10'] = np.where((prediction['Na_to_K_binned_<10'] == ''), prediction['Na_to_K_binned_10-20'], prediction['Na_to_K_binned_<10'])\n",
    "prediction['Na_to_K_binned_<10'] = np.where((prediction['Na_to_K_binned_<10'] == ''), prediction['Na_to_K_binned_20-30'], prediction['Na_to_K_binned_<10'])\n",
    "prediction['Na_to_K_binned_<10'] = np.where((prediction['Na_to_K_binned_<10'] == ''), prediction['Na_to_K_binned_>30'], prediction['Na_to_K_binned_<10'])\n",
    "prediction = prediction.drop(['Sex_M', 'BP_LOW', 'BP_NORMAL', 'Cholesterol_NORMAL', 'Age_binned_20s', 'Age_binned_30s',\n",
    "                 'Age_binned_40s', 'Age_binned_50s', 'Age_binned_60s', 'Age_binned_>60s',\n",
    "                'Na_to_K_binned_10-20', 'Na_to_K_binned_20-30', 'Na_to_K_binned_>30'], axis = 1)\n",
    "\n",
    "new_name = {'Sex_F': 'Sex', 'BP_HIGH': 'BP', 'Cholesterol_HIGH': 'Cholesterol', 'Age_binned_<20s': 'Age_binned',\n",
    "          'Na_to_K_binned_<10': 'Na_to_K_binned'}\n",
    "prediction.rename(columns=new_name, inplace=True)"
   ]
  },
  {
   "cell_type": "code",
   "execution_count": 86,
   "id": "20f1bc94",
   "metadata": {
    "execution": {
     "iopub.execute_input": "2022-05-21T13:07:00.177453Z",
     "iopub.status.busy": "2022-05-21T13:07:00.177119Z",
     "iopub.status.idle": "2022-05-21T13:07:00.197385Z",
     "shell.execute_reply": "2022-05-21T13:07:00.196341Z"
    },
    "papermill": {
     "duration": 0.090639,
     "end_time": "2022-05-21T13:07:00.199731",
     "exception": false,
     "start_time": "2022-05-21T13:07:00.109092",
     "status": "completed"
    },
    "tags": []
   },
   "outputs": [
    {
     "data": {
      "text/html": [
       "<div>\n",
       "<style scoped>\n",
       "    .dataframe tbody tr th:only-of-type {\n",
       "        vertical-align: middle;\n",
       "    }\n",
       "\n",
       "    .dataframe tbody tr th {\n",
       "        vertical-align: top;\n",
       "    }\n",
       "\n",
       "    .dataframe thead th {\n",
       "        text-align: right;\n",
       "    }\n",
       "</style>\n",
       "<table border=\"1\" class=\"dataframe\">\n",
       "  <thead>\n",
       "    <tr style=\"text-align: right;\">\n",
       "      <th></th>\n",
       "      <th>Sex</th>\n",
       "      <th>BP</th>\n",
       "      <th>Cholesterol</th>\n",
       "      <th>Age_binned</th>\n",
       "      <th>Na_to_K_binned</th>\n",
       "      <th>DrugType</th>\n",
       "    </tr>\n",
       "  </thead>\n",
       "  <tbody>\n",
       "    <tr>\n",
       "      <th>0</th>\n",
       "      <td>Male</td>\n",
       "      <td>Low</td>\n",
       "      <td>High</td>\n",
       "      <td>20s</td>\n",
       "      <td>&lt;10</td>\n",
       "      <td>drugC</td>\n",
       "    </tr>\n",
       "    <tr>\n",
       "      <th>1</th>\n",
       "      <td>Female</td>\n",
       "      <td>Normal</td>\n",
       "      <td>High</td>\n",
       "      <td>20s</td>\n",
       "      <td>10-20</td>\n",
       "      <td>drugX</td>\n",
       "    </tr>\n",
       "    <tr>\n",
       "      <th>2</th>\n",
       "      <td>Male</td>\n",
       "      <td>Low</td>\n",
       "      <td>High</td>\n",
       "      <td>40s</td>\n",
       "      <td>20-30</td>\n",
       "      <td>DrugY</td>\n",
       "    </tr>\n",
       "    <tr>\n",
       "      <th>3</th>\n",
       "      <td>Male</td>\n",
       "      <td>High</td>\n",
       "      <td>Normal</td>\n",
       "      <td>20s</td>\n",
       "      <td>&gt;30s</td>\n",
       "      <td>DrugY</td>\n",
       "    </tr>\n",
       "    <tr>\n",
       "      <th>4</th>\n",
       "      <td>Male</td>\n",
       "      <td>Normal</td>\n",
       "      <td>High</td>\n",
       "      <td>20s</td>\n",
       "      <td>20-30</td>\n",
       "      <td>DrugY</td>\n",
       "    </tr>\n",
       "  </tbody>\n",
       "</table>\n",
       "</div>"
      ],
      "text/plain": [
       "      Sex      BP Cholesterol Age_binned Na_to_K_binned DrugType\n",
       "0    Male     Low        High        20s            <10    drugC\n",
       "1  Female  Normal        High        20s          10-20    drugX\n",
       "2    Male     Low        High        40s          20-30    DrugY\n",
       "3    Male    High      Normal        20s           >30s    DrugY\n",
       "4    Male  Normal        High        20s          20-30    DrugY"
      ]
     },
     "execution_count": 86,
     "metadata": {},
     "output_type": "execute_result"
    }
   ],
   "source": [
    "prediction.to_csv('prediction.csv', index=False)\n",
    "predictioncsv = pd.read_csv('./prediction.csv')\n",
    "predictioncsv.head()"
   ]
  },
  {
   "cell_type": "code",
   "execution_count": null,
   "id": "65d47ed2",
   "metadata": {
    "papermill": {
     "duration": 0.067639,
     "end_time": "2022-05-21T13:07:00.336957",
     "exception": false,
     "start_time": "2022-05-21T13:07:00.269318",
     "status": "completed"
    },
    "tags": []
   },
   "outputs": [],
   "source": []
  }
 ],
 "metadata": {
  "kernelspec": {
   "display_name": "Python 3 (ipykernel)",
   "language": "python",
   "name": "python3"
  },
  "language_info": {
   "codemirror_mode": {
    "name": "ipython",
    "version": 3
   },
   "file_extension": ".py",
   "mimetype": "text/x-python",
   "name": "python",
   "nbconvert_exporter": "python",
   "pygments_lexer": "ipython3",
   "version": "3.9.12"
  },
  "papermill": {
   "default_parameters": {},
   "duration": 114.939649,
   "end_time": "2022-05-21T13:07:01.431161",
   "environment_variables": {},
   "exception": null,
   "input_path": "__notebook__.ipynb",
   "output_path": "__notebook__.ipynb",
   "parameters": {},
   "start_time": "2022-05-21T13:05:06.491512",
   "version": "2.3.4"
  }
 },
 "nbformat": 4,
 "nbformat_minor": 5
}
